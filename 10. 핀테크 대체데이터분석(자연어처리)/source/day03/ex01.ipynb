{
 "cells": [
  {
   "cell_type": "code",
   "execution_count": 1,
   "id": "29966851",
   "metadata": {},
   "outputs": [
    {
     "name": "stdout",
     "output_type": "stream",
     "text": [
      "Requirement already satisfied: transformers in c:\\users\\admin\\desktop\\jyh\\ai_class_source\\10. 핀테크 대체데이터분석(자연어처리)\\source\\.venv\\lib\\site-packages (4.53.1)\n",
      "Requirement already satisfied: filelock in c:\\users\\admin\\desktop\\jyh\\ai_class_source\\10. 핀테크 대체데이터분석(자연어처리)\\source\\.venv\\lib\\site-packages (from transformers) (3.18.0)\n",
      "Requirement already satisfied: huggingface-hub<1.0,>=0.30.0 in c:\\users\\admin\\desktop\\jyh\\ai_class_source\\10. 핀테크 대체데이터분석(자연어처리)\\source\\.venv\\lib\\site-packages (from transformers) (0.33.2)\n",
      "Requirement already satisfied: numpy>=1.17 in c:\\users\\admin\\desktop\\jyh\\ai_class_source\\10. 핀테크 대체데이터분석(자연어처리)\\source\\.venv\\lib\\site-packages (from transformers) (2.1.3)\n",
      "Requirement already satisfied: packaging>=20.0 in c:\\users\\admin\\desktop\\jyh\\ai_class_source\\10. 핀테크 대체데이터분석(자연어처리)\\source\\.venv\\lib\\site-packages (from transformers) (25.0)\n",
      "Requirement already satisfied: pyyaml>=5.1 in c:\\users\\admin\\desktop\\jyh\\ai_class_source\\10. 핀테크 대체데이터분석(자연어처리)\\source\\.venv\\lib\\site-packages (from transformers) (6.0.2)\n",
      "Requirement already satisfied: regex!=2019.12.17 in c:\\users\\admin\\desktop\\jyh\\ai_class_source\\10. 핀테크 대체데이터분석(자연어처리)\\source\\.venv\\lib\\site-packages (from transformers) (2024.11.6)\n",
      "Requirement already satisfied: requests in c:\\users\\admin\\desktop\\jyh\\ai_class_source\\10. 핀테크 대체데이터분석(자연어처리)\\source\\.venv\\lib\\site-packages (from transformers) (2.32.4)\n",
      "Requirement already satisfied: tokenizers<0.22,>=0.21 in c:\\users\\admin\\desktop\\jyh\\ai_class_source\\10. 핀테크 대체데이터분석(자연어처리)\\source\\.venv\\lib\\site-packages (from transformers) (0.21.2)\n",
      "Requirement already satisfied: safetensors>=0.4.3 in c:\\users\\admin\\desktop\\jyh\\ai_class_source\\10. 핀테크 대체데이터분석(자연어처리)\\source\\.venv\\lib\\site-packages (from transformers) (0.5.3)\n",
      "Requirement already satisfied: tqdm>=4.27 in c:\\users\\admin\\desktop\\jyh\\ai_class_source\\10. 핀테크 대체데이터분석(자연어처리)\\source\\.venv\\lib\\site-packages (from transformers) (4.67.1)\n",
      "Requirement already satisfied: fsspec>=2023.5.0 in c:\\users\\admin\\desktop\\jyh\\ai_class_source\\10. 핀테크 대체데이터분석(자연어처리)\\source\\.venv\\lib\\site-packages (from huggingface-hub<1.0,>=0.30.0->transformers) (2025.5.1)\n",
      "Requirement already satisfied: typing-extensions>=3.7.4.3 in c:\\users\\admin\\desktop\\jyh\\ai_class_source\\10. 핀테크 대체데이터분석(자연어처리)\\source\\.venv\\lib\\site-packages (from huggingface-hub<1.0,>=0.30.0->transformers) (4.14.1)\n",
      "Requirement already satisfied: colorama in c:\\users\\admin\\desktop\\jyh\\ai_class_source\\10. 핀테크 대체데이터분석(자연어처리)\\source\\.venv\\lib\\site-packages (from tqdm>=4.27->transformers) (0.4.6)\n",
      "Requirement already satisfied: charset_normalizer<4,>=2 in c:\\users\\admin\\desktop\\jyh\\ai_class_source\\10. 핀테크 대체데이터분석(자연어처리)\\source\\.venv\\lib\\site-packages (from requests->transformers) (3.4.2)\n",
      "Requirement already satisfied: idna<4,>=2.5 in c:\\users\\admin\\desktop\\jyh\\ai_class_source\\10. 핀테크 대체데이터분석(자연어처리)\\source\\.venv\\lib\\site-packages (from requests->transformers) (3.10)\n",
      "Requirement already satisfied: urllib3<3,>=1.21.1 in c:\\users\\admin\\desktop\\jyh\\ai_class_source\\10. 핀테크 대체데이터분석(자연어처리)\\source\\.venv\\lib\\site-packages (from requests->transformers) (2.5.0)\n",
      "Requirement already satisfied: certifi>=2017.4.17 in c:\\users\\admin\\desktop\\jyh\\ai_class_source\\10. 핀테크 대체데이터분석(자연어처리)\\source\\.venv\\lib\\site-packages (from requests->transformers) (2025.6.15)\n"
     ]
    }
   ],
   "source": [
    "!pip install transformers"
   ]
  },
  {
   "cell_type": "code",
   "execution_count": 2,
   "id": "97b4e713",
   "metadata": {},
   "outputs": [],
   "source": [
    "from transformers import AutoTokenizer\n",
    "tokenizer = AutoTokenizer.from_pretrained(\n",
    "    \"LGAI-EXAONE/EXAONE-3.5-2.4B-Instruct\"\n",
    ")"
   ]
  },
  {
   "cell_type": "code",
   "execution_count": 3,
   "id": "3df3cf8f",
   "metadata": {},
   "outputs": [
    {
     "name": "stderr",
     "output_type": "stream",
     "text": [
      "A new version of the following files was downloaded from https://huggingface.co/LGAI-EXAONE/EXAONE-3.5-2.4B-Instruct:\n",
      "- configuration_exaone.py\n",
      ". Make sure to double-check they do not contain any added malicious code. To avoid downloading new versions of the code file, you can pin a revision.\n",
      "A new version of the following files was downloaded from https://huggingface.co/LGAI-EXAONE/EXAONE-3.5-2.4B-Instruct:\n",
      "- modeling_exaone.py\n",
      ". Make sure to double-check they do not contain any added malicious code. To avoid downloading new versions of the code file, you can pin a revision.\n",
      "Fetching 2 files: 100%|██████████| 2/2 [13:56<00:00, 418.03s/it]\n",
      "Loading checkpoint shards: 100%|██████████| 2/2 [00:00<00:00, 13.84it/s]\n",
      "Device set to use cpu\n"
     ]
    }
   ],
   "source": [
    "from transformers import pipeline\n",
    "\n",
    "pipe = pipeline(task=\"text-generation\", model=\"LGAI-EXAONE/EXAONE-3.5-2.4B-Instruct\", tokenizer=tokenizer, trust_remote_code=True)"
   ]
  },
  {
   "cell_type": "code",
   "execution_count": 4,
   "id": "e6118317",
   "metadata": {},
   "outputs": [],
   "source": [
    "messages = [\n",
    "    {\"role\": \"system\",\n",
    "     \"content\": \"너는 쇼핑몰 홈페이지에 올라온 질문에 대답하는 Q&A 챗봇이야. \\\n",
    "                 확정적인 답변을 하지 말고 제품 담당자가 정확한 답변을 하기 위해 \\\n",
    "                 시간이 필요하다는 간단하고 친절한 답변을 생성해줘.\"},\n",
    "    {\"role\": \"user\", \"content\": \"이 다이어리에 내년도 공휴일이 표시되어 있나요?\"}\n",
    "]"
   ]
  },
  {
   "cell_type": "code",
   "execution_count": 5,
   "id": "ad861ffd",
   "metadata": {},
   "outputs": [
    {
     "data": {
      "text/plain": [
       "[{'generated_text': [{'role': 'system',\n",
       "    'content': '너는 쇼핑몰 홈페이지에 올라온 질문에 대답하는 Q&A 챗봇이야.                  확정적인 답변을 하지 말고 제품 담당자가 정확한 답변을 하기 위해                  시간이 필요하다는 간단하고 친절한 답변을 생성해줘.'},\n",
       "   {'role': 'user', 'content': '이 다이어리에 내년도 공휴일이 표시되어 있나요?'},\n",
       "   {'role': 'assistant',\n",
       "    'content': '죄송합니다만, 가장 정확한 답변을 드리기 위해 제품 담당자님께 확인을 요청드리겠습니다. 공휴일 정보는 매년 국가별로 다르게 변경될 수 있으니, 좀 더 자세한 내용은 저희 측의 담당자 분께 문의하시는 것이 좋을 것 같습니다. 곧 연락드리겠습니다!'}]}]"
      ]
     },
     "execution_count": 5,
     "metadata": {},
     "output_type": "execute_result"
    }
   ],
   "source": [
    "pipe(messages)"
   ]
  },
  {
   "cell_type": "code",
   "execution_count": 8,
   "id": "823b8832",
   "metadata": {},
   "outputs": [
    {
     "data": {
      "text/plain": [
       "[{'generated_text': '당연히 내년도 연휴 및 holidays이 참고 목록 안쪽 상세항명란 이나 자료실, 또는 공식적 calendars에는 표시이 정확 히 나옵니다, 그러나 이곳 바로 현재로 에서 귀하와 신속 한 회신 을 위해선 직원 들이 상세 컨텐츠까지 검사 하여 작성하여 반영 까지 진행상황 파악까지 기다 림을 기다리실 일에 협조 주시게 부탁 드려요!! 혹시 좀 궁금하 신 사항 다른 일반 확인에 요청 되신 거 외 에서 편하신경은 이메일 보다 자세를 통해 공유드릴 기회 주세요 그럼 곧 답받아서 알랴워 드릴것 에 감사 드리게요❤ 💧 👂 📲 😎 👏 요청いたご涷し辑이 궁금사항 입니다 이외엔 시간 조금을 기대해 보시오고 사과함시데요, 그래도 언제까지 준비를 마칠께서 자세안내 까지 마련함을 고려해서 적극 도움감사할요\\uf1f4 💪 감사 ✨\\n질문을 명확해질 요청이 어려우셔서 자세 정보 알려 드릴 부분 요청하시는데 기다리긴 어려운 측면이니 바로 해당'}]"
      ]
     },
     "execution_count": 8,
     "metadata": {},
     "output_type": "execute_result"
    }
   ],
   "source": [
    "pipe(messages, max_new_tokens=200, return_full_text=False, do_sample=True, temperature=10.0)"
   ]
  },
  {
   "cell_type": "code",
   "execution_count": 9,
   "id": "718ed20c",
   "metadata": {},
   "outputs": [
    {
     "data": {
      "text/plain": [
       "[{'generated_text': '현재로서 제품 담당자의 답변은 제한적으로 이루어집니다 only,  내년 다이어리 내 모든 공휴일이 상세ographically 정확하고 명확하며 기재된 상태에 관해서도 저희가 미리 확실시하거나 확인한 부분만 전달드릴 수 없는 상황인 것 같어요.^ ^ 필요 사항이니 해당 브랜드 고객 서비스 또는 고객센터 문의로 연락하셔서 자세히 알아보세요.^.^ 자세한 날짜와 정확 내용 제공에 대한 확인도 가능해질 거니까 시간 내서 체크 부탁드리겠답니다 😊'}]"
      ]
     },
     "execution_count": 9,
     "metadata": {},
     "output_type": "execute_result"
    }
   ],
   "source": [
    "pipe(messages, max_new_tokens=200, return_full_text=False, do_sample=True, top_k=10, temperature=10.0)"
   ]
  },
  {
   "cell_type": "code",
   "execution_count": 10,
   "id": "c5ebb1b9",
   "metadata": {},
   "outputs": [
    {
     "data": {
      "text/plain": [
       "[{'generated_text': ' 네,\\\\ 잘 보시나요 ;) 아직 준비를 위해 최종 날짜 확정만 남겼는지 확인 보시자 해서 천천히 확인 과정 들어갔죠 💜 해당DateTime은 제작된 날짜보다 훨씬 크러서 내년도 구체 적으러 따로 작업 되면 전달 해줄게요~ 기다려 볼게요 연락 어려우니 직접 상품 담당직원번 호 로  문자 문의 해도 될akinarro다 이해 바랍니다✨ 안전 여행일기 시작하시거든 즐거운 Holidays 함께 응원어요 ~감사인사도 중요하니 부담스럽게나마  행복하루 보내렴께 감사하셔욲 감사하단답니다✊? 😥 아 또 잘못 보낸 내용 없노라 하기에 이 다음 요청에는 정확답변 부탁드려요 😏 참고 부탁해요 ~.**;*) *** *** ;; \\u200a\\\\*\\n이부분 다시 정확히 해보세요 혹시 헷갈리신경거 있어나 궁금히 궁금스런 목록있너 있어요 편하시다 문의 해주소~~\\n감사합쇼 ❤님. 우리쪽 고객들이 즐겁고도 효율로울끔 도움만 최대한 드위해 Efforts하고파서 최선'}]"
      ]
     },
     "execution_count": 10,
     "metadata": {},
     "output_type": "execute_result"
    }
   ],
   "source": [
    "pipe(messages, max_new_tokens=200, return_full_text=False, do_sample=True, temperature=10.0, top_p=0.9)"
   ]
  },
  {
   "cell_type": "code",
   "execution_count": 11,
   "id": "0b417cf1",
   "metadata": {},
   "outputs": [
    {
     "data": {
      "text/plain": [
       "[{'generated_text': \"님 인사antry아~! 아쉽지만 당사디파리자른내용관련되서류에 정확히 Holiday나 특정Date표현영령발견havenotoutdetailsfast하지만우리생산팀이랑contact하기 쉽네우리자주오shi해당업사항정확한글작성하고 원하시는 확인일정을 더 공유가능이니 천천히 답변을 알아보요^^ 시간이지 나서 원하내용확인즉antly 해보이려고하니그럼빠른회복 건강지행있담해요!!!!⚶    - gentlebotservices 응원해줄 볼게요 드림게요 ✨ ⥟ \\u218e?템 관련 최신 공지는 @저희 업체홍보정보로 @wwwURL 대신 추후 상세 피드백연락줄때 기대해질예정 ❌ 꼭기억부신다는! 궁금� Jabailaegu' 서비스되나요✠ 꼭 편하자미 주세요 👬 채팅이용감사~⚖─\\n 렉트답 생략로 넘기고요 💨 필요해요도 더 편안환 자세에서 빠른 확인까지 부탁드려요.  정선치 부탁 드릴게요~ �\"}]"
      ]
     },
     "execution_count": 11,
     "metadata": {},
     "output_type": "execute_result"
    }
   ],
   "source": [
    "pipe(messages, max_new_tokens=200, return_full_text=False, do_sample=True, temperature=10.0, top_k=100, top_p=0.9)"
   ]
  }
 ],
 "metadata": {
  "kernelspec": {
   "display_name": ".venv",
   "language": "python",
   "name": "python3"
  },
  "language_info": {
   "codemirror_mode": {
    "name": "ipython",
    "version": 3
   },
   "file_extension": ".py",
   "mimetype": "text/x-python",
   "name": "python",
   "nbconvert_exporter": "python",
   "pygments_lexer": "ipython3",
   "version": "3.12.10"
  }
 },
 "nbformat": 4,
 "nbformat_minor": 5
}
