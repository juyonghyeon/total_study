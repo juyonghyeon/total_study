{
 "cells": [
  {
   "cell_type": "code",
   "execution_count": 1,
   "id": "f048018d",
   "metadata": {},
   "outputs": [
    {
     "name": "stdout",
     "output_type": "stream",
     "text": [
      "Requirement already satisfied: tensorflow in c:\\users\\admin\\desktop\\jyh\\ai_class_source\\09 핀테크 머신러닝과 딥러닝 이해\\source3\\.venv\\lib\\site-packages (2.19.0)\n",
      "Requirement already satisfied: absl-py>=1.0.0 in c:\\users\\admin\\desktop\\jyh\\ai_class_source\\09 핀테크 머신러닝과 딥러닝 이해\\source3\\.venv\\lib\\site-packages (from tensorflow) (2.3.0)\n",
      "Requirement already satisfied: astunparse>=1.6.0 in c:\\users\\admin\\desktop\\jyh\\ai_class_source\\09 핀테크 머신러닝과 딥러닝 이해\\source3\\.venv\\lib\\site-packages (from tensorflow) (1.6.3)\n",
      "Requirement already satisfied: flatbuffers>=24.3.25 in c:\\users\\admin\\desktop\\jyh\\ai_class_source\\09 핀테크 머신러닝과 딥러닝 이해\\source3\\.venv\\lib\\site-packages (from tensorflow) (25.2.10)\n",
      "Requirement already satisfied: gast!=0.5.0,!=0.5.1,!=0.5.2,>=0.2.1 in c:\\users\\admin\\desktop\\jyh\\ai_class_source\\09 핀테크 머신러닝과 딥러닝 이해\\source3\\.venv\\lib\\site-packages (from tensorflow) (0.6.0)\n",
      "Requirement already satisfied: google-pasta>=0.1.1 in c:\\users\\admin\\desktop\\jyh\\ai_class_source\\09 핀테크 머신러닝과 딥러닝 이해\\source3\\.venv\\lib\\site-packages (from tensorflow) (0.2.0)\n",
      "Requirement already satisfied: libclang>=13.0.0 in c:\\users\\admin\\desktop\\jyh\\ai_class_source\\09 핀테크 머신러닝과 딥러닝 이해\\source3\\.venv\\lib\\site-packages (from tensorflow) (18.1.1)\n",
      "Requirement already satisfied: opt-einsum>=2.3.2 in c:\\users\\admin\\desktop\\jyh\\ai_class_source\\09 핀테크 머신러닝과 딥러닝 이해\\source3\\.venv\\lib\\site-packages (from tensorflow) (3.4.0)\n",
      "Requirement already satisfied: packaging in c:\\users\\admin\\desktop\\jyh\\ai_class_source\\09 핀테크 머신러닝과 딥러닝 이해\\source3\\.venv\\lib\\site-packages (from tensorflow) (25.0)\n",
      "Requirement already satisfied: protobuf!=4.21.0,!=4.21.1,!=4.21.2,!=4.21.3,!=4.21.4,!=4.21.5,<6.0.0dev,>=3.20.3 in c:\\users\\admin\\desktop\\jyh\\ai_class_source\\09 핀테크 머신러닝과 딥러닝 이해\\source3\\.venv\\lib\\site-packages (from tensorflow) (5.29.5)\n",
      "Requirement already satisfied: requests<3,>=2.21.0 in c:\\users\\admin\\desktop\\jyh\\ai_class_source\\09 핀테크 머신러닝과 딥러닝 이해\\source3\\.venv\\lib\\site-packages (from tensorflow) (2.32.4)\n",
      "Requirement already satisfied: setuptools in c:\\users\\admin\\desktop\\jyh\\ai_class_source\\09 핀테크 머신러닝과 딥러닝 이해\\source3\\.venv\\lib\\site-packages (from tensorflow) (80.9.0)\n",
      "Requirement already satisfied: six>=1.12.0 in c:\\users\\admin\\desktop\\jyh\\ai_class_source\\09 핀테크 머신러닝과 딥러닝 이해\\source3\\.venv\\lib\\site-packages (from tensorflow) (1.17.0)\n",
      "Requirement already satisfied: termcolor>=1.1.0 in c:\\users\\admin\\desktop\\jyh\\ai_class_source\\09 핀테크 머신러닝과 딥러닝 이해\\source3\\.venv\\lib\\site-packages (from tensorflow) (3.1.0)\n",
      "Requirement already satisfied: typing-extensions>=3.6.6 in c:\\users\\admin\\desktop\\jyh\\ai_class_source\\09 핀테크 머신러닝과 딥러닝 이해\\source3\\.venv\\lib\\site-packages (from tensorflow) (4.14.0)\n",
      "Requirement already satisfied: wrapt>=1.11.0 in c:\\users\\admin\\desktop\\jyh\\ai_class_source\\09 핀테크 머신러닝과 딥러닝 이해\\source3\\.venv\\lib\\site-packages (from tensorflow) (1.17.2)\n",
      "Requirement already satisfied: grpcio<2.0,>=1.24.3 in c:\\users\\admin\\desktop\\jyh\\ai_class_source\\09 핀테크 머신러닝과 딥러닝 이해\\source3\\.venv\\lib\\site-packages (from tensorflow) (1.73.1)\n",
      "Requirement already satisfied: tensorboard~=2.19.0 in c:\\users\\admin\\desktop\\jyh\\ai_class_source\\09 핀테크 머신러닝과 딥러닝 이해\\source3\\.venv\\lib\\site-packages (from tensorflow) (2.19.0)\n",
      "Requirement already satisfied: keras>=3.5.0 in c:\\users\\admin\\desktop\\jyh\\ai_class_source\\09 핀테크 머신러닝과 딥러닝 이해\\source3\\.venv\\lib\\site-packages (from tensorflow) (3.10.0)\n",
      "Requirement already satisfied: numpy<2.2.0,>=1.26.0 in c:\\users\\admin\\desktop\\jyh\\ai_class_source\\09 핀테크 머신러닝과 딥러닝 이해\\source3\\.venv\\lib\\site-packages (from tensorflow) (2.1.3)\n",
      "Requirement already satisfied: h5py>=3.11.0 in c:\\users\\admin\\desktop\\jyh\\ai_class_source\\09 핀테크 머신러닝과 딥러닝 이해\\source3\\.venv\\lib\\site-packages (from tensorflow) (3.14.0)\n",
      "Requirement already satisfied: ml-dtypes<1.0.0,>=0.5.1 in c:\\users\\admin\\desktop\\jyh\\ai_class_source\\09 핀테크 머신러닝과 딥러닝 이해\\source3\\.venv\\lib\\site-packages (from tensorflow) (0.5.1)\n",
      "Requirement already satisfied: charset_normalizer<4,>=2 in c:\\users\\admin\\desktop\\jyh\\ai_class_source\\09 핀테크 머신러닝과 딥러닝 이해\\source3\\.venv\\lib\\site-packages (from requests<3,>=2.21.0->tensorflow) (3.4.2)\n",
      "Requirement already satisfied: idna<4,>=2.5 in c:\\users\\admin\\desktop\\jyh\\ai_class_source\\09 핀테크 머신러닝과 딥러닝 이해\\source3\\.venv\\lib\\site-packages (from requests<3,>=2.21.0->tensorflow) (3.10)\n",
      "Requirement already satisfied: urllib3<3,>=1.21.1 in c:\\users\\admin\\desktop\\jyh\\ai_class_source\\09 핀테크 머신러닝과 딥러닝 이해\\source3\\.venv\\lib\\site-packages (from requests<3,>=2.21.0->tensorflow) (2.5.0)\n",
      "Requirement already satisfied: certifi>=2017.4.17 in c:\\users\\admin\\desktop\\jyh\\ai_class_source\\09 핀테크 머신러닝과 딥러닝 이해\\source3\\.venv\\lib\\site-packages (from requests<3,>=2.21.0->tensorflow) (2025.6.15)\n",
      "Requirement already satisfied: markdown>=2.6.8 in c:\\users\\admin\\desktop\\jyh\\ai_class_source\\09 핀테크 머신러닝과 딥러닝 이해\\source3\\.venv\\lib\\site-packages (from tensorboard~=2.19.0->tensorflow) (3.8.2)\n",
      "Requirement already satisfied: tensorboard-data-server<0.8.0,>=0.7.0 in c:\\users\\admin\\desktop\\jyh\\ai_class_source\\09 핀테크 머신러닝과 딥러닝 이해\\source3\\.venv\\lib\\site-packages (from tensorboard~=2.19.0->tensorflow) (0.7.2)\n",
      "Requirement already satisfied: werkzeug>=1.0.1 in c:\\users\\admin\\desktop\\jyh\\ai_class_source\\09 핀테크 머신러닝과 딥러닝 이해\\source3\\.venv\\lib\\site-packages (from tensorboard~=2.19.0->tensorflow) (3.1.3)\n",
      "Requirement already satisfied: wheel<1.0,>=0.23.0 in c:\\users\\admin\\desktop\\jyh\\ai_class_source\\09 핀테크 머신러닝과 딥러닝 이해\\source3\\.venv\\lib\\site-packages (from astunparse>=1.6.0->tensorflow) (0.45.1)\n",
      "Requirement already satisfied: rich in c:\\users\\admin\\desktop\\jyh\\ai_class_source\\09 핀테크 머신러닝과 딥러닝 이해\\source3\\.venv\\lib\\site-packages (from keras>=3.5.0->tensorflow) (14.0.0)\n",
      "Requirement already satisfied: namex in c:\\users\\admin\\desktop\\jyh\\ai_class_source\\09 핀테크 머신러닝과 딥러닝 이해\\source3\\.venv\\lib\\site-packages (from keras>=3.5.0->tensorflow) (0.1.0)\n",
      "Requirement already satisfied: optree in c:\\users\\admin\\desktop\\jyh\\ai_class_source\\09 핀테크 머신러닝과 딥러닝 이해\\source3\\.venv\\lib\\site-packages (from keras>=3.5.0->tensorflow) (0.16.0)\n",
      "Requirement already satisfied: MarkupSafe>=2.1.1 in c:\\users\\admin\\desktop\\jyh\\ai_class_source\\09 핀테크 머신러닝과 딥러닝 이해\\source3\\.venv\\lib\\site-packages (from werkzeug>=1.0.1->tensorboard~=2.19.0->tensorflow) (3.0.2)\n",
      "Requirement already satisfied: markdown-it-py>=2.2.0 in c:\\users\\admin\\desktop\\jyh\\ai_class_source\\09 핀테크 머신러닝과 딥러닝 이해\\source3\\.venv\\lib\\site-packages (from rich->keras>=3.5.0->tensorflow) (3.0.0)\n",
      "Requirement already satisfied: pygments<3.0.0,>=2.13.0 in c:\\users\\admin\\desktop\\jyh\\ai_class_source\\09 핀테크 머신러닝과 딥러닝 이해\\source3\\.venv\\lib\\site-packages (from rich->keras>=3.5.0->tensorflow) (2.19.2)\n",
      "Requirement already satisfied: mdurl~=0.1 in c:\\users\\admin\\desktop\\jyh\\ai_class_source\\09 핀테크 머신러닝과 딥러닝 이해\\source3\\.venv\\lib\\site-packages (from markdown-it-py>=2.2.0->rich->keras>=3.5.0->tensorflow) (0.1.2)\n"
     ]
    }
   ],
   "source": [
    "!pip install tensorflow"
   ]
  },
  {
   "cell_type": "code",
   "execution_count": 2,
   "id": "aeda20cc",
   "metadata": {},
   "outputs": [
    {
     "name": "stdout",
     "output_type": "stream",
     "text": [
      "Requirement already satisfied: pillow in c:\\users\\admin\\desktop\\jyh\\ai_class_source\\09 핀테크 머신러닝과 딥러닝 이해\\source3\\.venv\\lib\\site-packages (11.2.1)\n"
     ]
    }
   ],
   "source": [
    "!pip install pillow"
   ]
  },
  {
   "cell_type": "code",
   "execution_count": 3,
   "id": "d6d36bb9",
   "metadata": {},
   "outputs": [
    {
     "name": "stdout",
     "output_type": "stream",
     "text": [
      "Requirement already satisfied: scikit-learn in c:\\users\\admin\\desktop\\jyh\\ai_class_source\\09 핀테크 머신러닝과 딥러닝 이해\\source3\\.venv\\lib\\site-packages (1.7.0)\n",
      "Requirement already satisfied: numpy>=1.22.0 in c:\\users\\admin\\desktop\\jyh\\ai_class_source\\09 핀테크 머신러닝과 딥러닝 이해\\source3\\.venv\\lib\\site-packages (from scikit-learn) (2.1.3)\n",
      "Requirement already satisfied: scipy>=1.8.0 in c:\\users\\admin\\desktop\\jyh\\ai_class_source\\09 핀테크 머신러닝과 딥러닝 이해\\source3\\.venv\\lib\\site-packages (from scikit-learn) (1.16.0)\n",
      "Requirement already satisfied: joblib>=1.2.0 in c:\\users\\admin\\desktop\\jyh\\ai_class_source\\09 핀테크 머신러닝과 딥러닝 이해\\source3\\.venv\\lib\\site-packages (from scikit-learn) (1.5.1)\n",
      "Requirement already satisfied: threadpoolctl>=3.1.0 in c:\\users\\admin\\desktop\\jyh\\ai_class_source\\09 핀테크 머신러닝과 딥러닝 이해\\source3\\.venv\\lib\\site-packages (from scikit-learn) (3.6.0)\n"
     ]
    }
   ],
   "source": [
    "!pip install scikit-learn"
   ]
  },
  {
   "cell_type": "code",
   "execution_count": null,
   "id": "46baa41c",
   "metadata": {},
   "outputs": [],
   "source": []
  }
 ],
 "metadata": {
  "kernelspec": {
   "display_name": ".venv",
   "language": "python",
   "name": "python3"
  },
  "language_info": {
   "codemirror_mode": {
    "name": "ipython",
    "version": 3
   },
   "file_extension": ".py",
   "mimetype": "text/x-python",
   "name": "python",
   "nbconvert_exporter": "python",
   "pygments_lexer": "ipython3",
   "version": "3.12.10"
  }
 },
 "nbformat": 4,
 "nbformat_minor": 5
}
