{
 "cells": [
  {
   "cell_type": "code",
   "execution_count": 2,
   "id": "1bc6c73f",
   "metadata": {},
   "outputs": [],
   "source": [
    "# 원-핫 인코딩(One-Hot Encoding) : 다중 분류에서 0, 1로 바꾸는 기법\n",
    "import keras\n",
    "import numpy as np"
   ]
  },
  {
   "cell_type": "code",
   "execution_count": 17,
   "id": "098e4a6a",
   "metadata": {},
   "outputs": [],
   "source": [
    "targets = np.array([3,2,0,1])\n",
    "targets_encoded = keras.utils.to_categorical(targets) # 원-핫 인코딩"
   ]
  },
  {
   "cell_type": "code",
   "execution_count": 18,
   "id": "7fcc26b0",
   "metadata": {},
   "outputs": [
    {
     "data": {
      "text/plain": [
       "array([[0., 0., 0., 1.],\n",
       "       [0., 0., 1., 0.],\n",
       "       [1., 0., 0., 0.],\n",
       "       [0., 1., 0., 0.]])"
      ]
     },
     "execution_count": 18,
     "metadata": {},
     "output_type": "execute_result"
    }
   ],
   "source": [
    "targets_encoded"
   ]
  },
  {
   "cell_type": "code",
   "execution_count": null,
   "id": "e6e9578a",
   "metadata": {},
   "outputs": [],
   "source": []
  }
 ],
 "metadata": {
  "kernelspec": {
   "display_name": ".venv",
   "language": "python",
   "name": "python3"
  },
  "language_info": {
   "codemirror_mode": {
    "name": "ipython",
    "version": 3
   },
   "file_extension": ".py",
   "mimetype": "text/x-python",
   "name": "python",
   "nbconvert_exporter": "python",
   "pygments_lexer": "ipython3",
   "version": "3.12.10"
  }
 },
 "nbformat": 4,
 "nbformat_minor": 5
}
