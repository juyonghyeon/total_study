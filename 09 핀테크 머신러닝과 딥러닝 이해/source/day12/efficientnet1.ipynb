{
 "cells": [
  {
   "cell_type": "code",
   "execution_count": 1,
   "id": "b6da9105",
   "metadata": {},
   "outputs": [
    {
     "name": "stdout",
     "output_type": "stream",
     "text": [
      "Downloading data from https://storage.googleapis.com/keras-applications/efficientnetb0.h5\n",
      "\u001b[1m21834768/21834768\u001b[0m \u001b[32m━━━━━━━━━━━━━━━━━━━━\u001b[0m\u001b[37m\u001b[0m \u001b[1m1s\u001b[0m 0us/step\n"
     ]
    }
   ],
   "source": [
    "import keras\n",
    "\n",
    "# efficientNet b0\n",
    "model = keras.applications.EfficientNetB0()"
   ]
  },
  {
   "cell_type": "code",
   "execution_count": 3,
   "id": "0f6ed9e6",
   "metadata": {},
   "outputs": [
    {
     "data": {
      "text/plain": [
       "(1, 224, 224, 3)"
      ]
     },
     "execution_count": 3,
     "metadata": {},
     "output_type": "execute_result"
    }
   ],
   "source": [
    "import numpy as np\n",
    "from PIL import Image\n",
    "dog_png = np.array(Image.open(\"images/dog.png\"))\n",
    "dog_png = dog_png[np.newaxis,:]\n",
    "dog_png.shape"
   ]
  },
  {
   "cell_type": "code",
   "execution_count": 4,
   "id": "4c79c5e3",
   "metadata": {},
   "outputs": [
    {
     "name": "stdout",
     "output_type": "stream",
     "text": [
      "\u001b[1m1/1\u001b[0m \u001b[32m━━━━━━━━━━━━━━━━━━━━\u001b[0m\u001b[37m\u001b[0m \u001b[1m2s\u001b[0m 2s/step\n"
     ]
    },
    {
     "data": {
      "text/plain": [
       "[[('n02099712', 'Labrador_retriever', np.float32(0.3682936)),\n",
       "  ('n02104029', 'kuvasz', np.float32(0.1933991)),\n",
       "  ('n02099601', 'golden_retriever', np.float32(0.061458245)),\n",
       "  ('n02111500', 'Great_Pyrenees', np.float32(0.05779687)),\n",
       "  ('n02095889', 'Sealyham_terrier', np.float32(0.017902792))]]"
      ]
     },
     "execution_count": 4,
     "metadata": {},
     "output_type": "execute_result"
    }
   ],
   "source": [
    "from keras.applications import efficientnet\n",
    "predictions = model.predict(dog_png)\n",
    "efficientnet.decode_predictions(predictions)"
   ]
  },
  {
   "cell_type": "code",
   "execution_count": null,
   "id": "3a23c082",
   "metadata": {},
   "outputs": [],
   "source": []
  }
 ],
 "metadata": {
  "kernelspec": {
   "display_name": ".venv",
   "language": "python",
   "name": "python3"
  },
  "language_info": {
   "codemirror_mode": {
    "name": "ipython",
    "version": 3
   },
   "file_extension": ".py",
   "mimetype": "text/x-python",
   "name": "python",
   "nbconvert_exporter": "python",
   "pygments_lexer": "ipython3",
   "version": "3.12.10"
  }
 },
 "nbformat": 4,
 "nbformat_minor": 5
}
