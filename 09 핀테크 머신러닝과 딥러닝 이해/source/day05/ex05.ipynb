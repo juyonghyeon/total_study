{
 "cells": [
  {
   "cell_type": "code",
   "execution_count": 1,
   "id": "08842f33",
   "metadata": {},
   "outputs": [],
   "source": [
    "from scipy.stats import randint, uniform"
   ]
  },
  {
   "cell_type": "code",
   "execution_count": 2,
   "id": "cd543724",
   "metadata": {},
   "outputs": [
    {
     "data": {
      "text/plain": [
       "array([9, 8, 9, 7, 8, 2, 2, 5, 0, 1])"
      ]
     },
     "execution_count": 2,
     "metadata": {},
     "output_type": "execute_result"
    }
   ],
   "source": [
    "ri = randint(0, 10) # 0~9 무작위 수\n",
    "ri.rvs(10) # 0~9사이 숫자 중 무작위 수를 11개 생성"
   ]
  },
  {
   "cell_type": "code",
   "execution_count": 7,
   "id": "ff643076",
   "metadata": {},
   "outputs": [
    {
     "data": {
      "text/plain": [
       "(array([0, 1, 2, 3, 4, 5, 6, 7, 8, 9]),\n",
       " array([109, 105, 100,  93, 100,  94,  89, 109, 110,  91]))"
      ]
     },
     "execution_count": 7,
     "metadata": {},
     "output_type": "execute_result"
    }
   ],
   "source": [
    "import numpy as np\n",
    "np.unique(ri.rvs(1000), return_counts=True) # 중복된 총 갯수를 함께 반환"
   ]
  },
  {
   "cell_type": "code",
   "execution_count": 8,
   "id": "41c87c6d",
   "metadata": {},
   "outputs": [
    {
     "data": {
      "text/plain": [
       "array([0.45255692, 0.24269664, 0.2082458 , 0.30617541, 0.60139746])"
      ]
     },
     "execution_count": 8,
     "metadata": {},
     "output_type": "execute_result"
    }
   ],
   "source": [
    "ui = uniform(0,1) # 0~1 사이의 무작위 실수\n",
    "ui.rvs(5) # 0~1 사이의 무작위 실수를 5개 생성"
   ]
  },
  {
   "cell_type": "code",
   "execution_count": null,
   "id": "c6c9b96a",
   "metadata": {},
   "outputs": [],
   "source": []
  }
 ],
 "metadata": {
  "kernelspec": {
   "display_name": ".venv",
   "language": "python",
   "name": "python3"
  },
  "language_info": {
   "codemirror_mode": {
    "name": "ipython",
    "version": 3
   },
   "file_extension": ".py",
   "mimetype": "text/x-python",
   "name": "python",
   "nbconvert_exporter": "python",
   "pygments_lexer": "ipython3",
   "version": "3.12.10"
  }
 },
 "nbformat": 4,
 "nbformat_minor": 5
}
