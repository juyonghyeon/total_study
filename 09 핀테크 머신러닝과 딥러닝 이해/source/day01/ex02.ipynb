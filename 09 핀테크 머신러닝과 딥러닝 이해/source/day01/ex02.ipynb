{
 "cells": [
  {
   "cell_type": "code",
   "execution_count": 13,
   "id": "0c5f6681",
   "metadata": {},
   "outputs": [],
   "source": [
    "from selenium import webdriver\n",
    "from selenium.webdriver.common.by import By\n",
    "import time"
   ]
  },
  {
   "cell_type": "code",
   "execution_count": 14,
   "id": "04fa4178",
   "metadata": {},
   "outputs": [],
   "source": [
    "driver = webdriver.Chrome()\n",
    "driver.get(\"https://news.naver.com/section/105\")\n",
    "time.sleep(3)"
   ]
  },
  {
   "cell_type": "code",
   "execution_count": 15,
   "id": "c740cd01",
   "metadata": {},
   "outputs": [
    {
     "data": {
      "text/plain": [
       "<selenium.webdriver.remote.webelement.WebElement (session=\"a447dafb2dbe06ca7d9bd18258b59f65\", element=\"f.34AE095BC5AD14E70AA636ACA1F3C1CD.d.D54CDB70BBB5F10D87A305BF333296B8.e.80\")>"
      ]
     },
     "execution_count": 15,
     "metadata": {},
     "output_type": "execute_result"
    }
   ],
   "source": [
    "headline_section = driver.find_element(By.CLASS_NAME, \"as_headline\")\n",
    "headline_section"
   ]
  },
  {
   "cell_type": "code",
   "execution_count": 16,
   "id": "2682fd0d",
   "metadata": {},
   "outputs": [
    {
     "data": {
      "text/plain": [
       "[<selenium.webdriver.remote.webelement.WebElement (session=\"a447dafb2dbe06ca7d9bd18258b59f65\", element=\"f.34AE095BC5AD14E70AA636ACA1F3C1CD.d.D54CDB70BBB5F10D87A305BF333296B8.e.81\")>,\n",
       " <selenium.webdriver.remote.webelement.WebElement (session=\"a447dafb2dbe06ca7d9bd18258b59f65\", element=\"f.34AE095BC5AD14E70AA636ACA1F3C1CD.d.D54CDB70BBB5F10D87A305BF333296B8.e.82\")>,\n",
       " <selenium.webdriver.remote.webelement.WebElement (session=\"a447dafb2dbe06ca7d9bd18258b59f65\", element=\"f.34AE095BC5AD14E70AA636ACA1F3C1CD.d.D54CDB70BBB5F10D87A305BF333296B8.e.83\")>,\n",
       " <selenium.webdriver.remote.webelement.WebElement (session=\"a447dafb2dbe06ca7d9bd18258b59f65\", element=\"f.34AE095BC5AD14E70AA636ACA1F3C1CD.d.D54CDB70BBB5F10D87A305BF333296B8.e.84\")>,\n",
       " <selenium.webdriver.remote.webelement.WebElement (session=\"a447dafb2dbe06ca7d9bd18258b59f65\", element=\"f.34AE095BC5AD14E70AA636ACA1F3C1CD.d.D54CDB70BBB5F10D87A305BF333296B8.e.85\")>,\n",
       " <selenium.webdriver.remote.webelement.WebElement (session=\"a447dafb2dbe06ca7d9bd18258b59f65\", element=\"f.34AE095BC5AD14E70AA636ACA1F3C1CD.d.D54CDB70BBB5F10D87A305BF333296B8.e.86\")>,\n",
       " <selenium.webdriver.remote.webelement.WebElement (session=\"a447dafb2dbe06ca7d9bd18258b59f65\", element=\"f.34AE095BC5AD14E70AA636ACA1F3C1CD.d.D54CDB70BBB5F10D87A305BF333296B8.e.87\")>,\n",
       " <selenium.webdriver.remote.webelement.WebElement (session=\"a447dafb2dbe06ca7d9bd18258b59f65\", element=\"f.34AE095BC5AD14E70AA636ACA1F3C1CD.d.D54CDB70BBB5F10D87A305BF333296B8.e.88\")>]"
      ]
     },
     "execution_count": 16,
     "metadata": {},
     "output_type": "execute_result"
    }
   ],
   "source": [
    "items = headline_section.find_elements(By.CLASS_NAME,\"sa_text_strong\")\n",
    "items"
   ]
  },
  {
   "cell_type": "code",
   "execution_count": 17,
   "id": "f08646e7",
   "metadata": {},
   "outputs": [
    {
     "name": "stdout",
     "output_type": "stream",
     "text": [
      "KAIST, 자가발전으로 이산화탄소 실시간 모니터링 성공\n",
      "클라우드 네이티브 전환 5개 공공기관, NHN클라우드 손잡았다\n",
      "플리토, 200% 무상증자 결정…\"주주가치 제고 힘쓸 것\"\n",
      "LG유플러스, 안전한 AI 개발·운용 위한 글로벌 표준 인증 획득\n",
      "메가존클라우드, 래빗워크와 클라우드 렌더링 환경 구축⋯\"작업 시간 절반 단축\"\n",
      "접히는 신형 갤럭시폰, 역대 가장 얇고 가벼워진다…기대감↑\n",
      "\"iOS26도 확 바꾼다…아이폰 20주년 기념 대개편\"\n",
      "크래프톤 ‘인조이’, 맥 버전 사전예약…애플 ‘WWDC 2025’서도 소개\n"
     ]
    }
   ],
   "source": [
    "for item in items:\n",
    "    print(item.text)"
   ]
  },
  {
   "cell_type": "code",
   "execution_count": 18,
   "id": "b0630718",
   "metadata": {},
   "outputs": [
    {
     "data": {
      "text/plain": [
       "[<selenium.webdriver.remote.webelement.WebElement (session=\"a447dafb2dbe06ca7d9bd18258b59f65\", element=\"f.34AE095BC5AD14E70AA636ACA1F3C1CD.d.D54CDB70BBB5F10D87A305BF333296B8.e.18\")>,\n",
       " <selenium.webdriver.remote.webelement.WebElement (session=\"a447dafb2dbe06ca7d9bd18258b59f65\", element=\"f.34AE095BC5AD14E70AA636ACA1F3C1CD.d.D54CDB70BBB5F10D87A305BF333296B8.e.19\")>,\n",
       " <selenium.webdriver.remote.webelement.WebElement (session=\"a447dafb2dbe06ca7d9bd18258b59f65\", element=\"f.34AE095BC5AD14E70AA636ACA1F3C1CD.d.D54CDB70BBB5F10D87A305BF333296B8.e.20\")>,\n",
       " <selenium.webdriver.remote.webelement.WebElement (session=\"a447dafb2dbe06ca7d9bd18258b59f65\", element=\"f.34AE095BC5AD14E70AA636ACA1F3C1CD.d.D54CDB70BBB5F10D87A305BF333296B8.e.21\")>,\n",
       " <selenium.webdriver.remote.webelement.WebElement (session=\"a447dafb2dbe06ca7d9bd18258b59f65\", element=\"f.34AE095BC5AD14E70AA636ACA1F3C1CD.d.D54CDB70BBB5F10D87A305BF333296B8.e.22\")>,\n",
       " <selenium.webdriver.remote.webelement.WebElement (session=\"a447dafb2dbe06ca7d9bd18258b59f65\", element=\"f.34AE095BC5AD14E70AA636ACA1F3C1CD.d.D54CDB70BBB5F10D87A305BF333296B8.e.23\")>,\n",
       " <selenium.webdriver.remote.webelement.WebElement (session=\"a447dafb2dbe06ca7d9bd18258b59f65\", element=\"f.34AE095BC5AD14E70AA636ACA1F3C1CD.d.D54CDB70BBB5F10D87A305BF333296B8.e.24\")>,\n",
       " <selenium.webdriver.remote.webelement.WebElement (session=\"a447dafb2dbe06ca7d9bd18258b59f65\", element=\"f.34AE095BC5AD14E70AA636ACA1F3C1CD.d.D54CDB70BBB5F10D87A305BF333296B8.e.25\")>]"
      ]
     },
     "execution_count": 18,
     "metadata": {},
     "output_type": "execute_result"
    }
   ],
   "source": [
    "images = driver.find_elements(By.CSS_SELECTOR,\".as_headline .sa_thumb_link img\")\n",
    "images"
   ]
  },
  {
   "cell_type": "code",
   "execution_count": 19,
   "id": "d9f56ce0",
   "metadata": {},
   "outputs": [],
   "source": [
    "from urllib.request import urlretrieve\n",
    "\n",
    "for i, image in enumerate(images):\n",
    "    image_url = image.get_attribute('src')\n",
    "    urlretrieve(image_url,f\"C:/uploads/{i}.jpg\")"
   ]
  },
  {
   "cell_type": "code",
   "execution_count": 22,
   "id": "325f076c",
   "metadata": {},
   "outputs": [],
   "source": [
    "from bs4 import BeautifulSoup as bs\n",
    "html = driver.page_source\n",
    "soup = bs(html,\"html.parser\")"
   ]
  },
  {
   "cell_type": "code",
   "execution_count": 23,
   "id": "057095fc",
   "metadata": {},
   "outputs": [],
   "source": [
    "# 자바스크립트 시행\n",
    "driver.execute_script(\"alert('자바스크립트 실행!');\")"
   ]
  }
 ],
 "metadata": {
  "kernelspec": {
   "display_name": ".venv",
   "language": "python",
   "name": "python3"
  },
  "language_info": {
   "codemirror_mode": {
    "name": "ipython",
    "version": 3
   },
   "file_extension": ".py",
   "mimetype": "text/x-python",
   "name": "python",
   "nbconvert_exporter": "python",
   "pygments_lexer": "ipython3",
   "version": "3.12.10"
  }
 },
 "nbformat": 4,
 "nbformat_minor": 5
}
