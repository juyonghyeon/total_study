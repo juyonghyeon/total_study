{
 "cells": [
  {
   "cell_type": "code",
   "execution_count": 21,
   "id": "75d85dd6",
   "metadata": {},
   "outputs": [],
   "source": [
    "from selenium import webdriver\n",
    "from selenium.webdriver.common.by import By\n",
    "from selenium.webdriver.common.keys import Keys\n",
    "import time\n",
    "\n",
    "driver = webdriver.Chrome()\n",
    "\n",
    "# 브라우저의 주소창을 변경하고 이동\n",
    "driver.get(\"https://www.naver.com\")\n",
    "\n",
    "time.sleep(3)\n"
   ]
  },
  {
   "cell_type": "code",
   "execution_count": 22,
   "id": "421b80af",
   "metadata": {},
   "outputs": [
    {
     "data": {
      "text/plain": [
       "<selenium.webdriver.remote.webelement.WebElement (session=\"6d7f8129d94eefccc16e389b7b4c215a\", element=\"f.AC5D7904425A82CD5DC853CFBFA8EDF2.d.9133283135CF3CF30FEB1CFF168C9A10.e.4\")>"
      ]
     },
     "execution_count": 22,
     "metadata": {},
     "output_type": "execute_result"
    }
   ],
   "source": [
    "#search_box = driver.find_element(By.ID, \"query\")\n",
    "search_box = driver.find_element(By.XPATH, \"//form[@id='sform']/fieldset/div/input\")\n",
    "search_box"
   ]
  },
  {
   "cell_type": "code",
   "execution_count": 23,
   "id": "aa172be1",
   "metadata": {},
   "outputs": [],
   "source": [
    "search_box.send_keys(\"블로그\")"
   ]
  },
  {
   "cell_type": "code",
   "execution_count": 20,
   "id": "be21eae7",
   "metadata": {},
   "outputs": [],
   "source": [
    "search_box.send_keys(Keys.ENTER)"
   ]
  },
  {
   "cell_type": "code",
   "execution_count": 19,
   "id": "e473e3b0",
   "metadata": {},
   "outputs": [],
   "source": [
    "# search_btn = driver.find_element(By.CLASS_NAME,'btn_search')\n",
    "# search_btn.click()"
   ]
  },
  {
   "cell_type": "code",
   "execution_count": null,
   "id": "53834095",
   "metadata": {},
   "outputs": [],
   "source": []
  }
 ],
 "metadata": {
  "kernelspec": {
   "display_name": ".venv",
   "language": "python",
   "name": "python3"
  },
  "language_info": {
   "codemirror_mode": {
    "name": "ipython",
    "version": 3
   },
   "file_extension": ".py",
   "mimetype": "text/x-python",
   "name": "python",
   "nbconvert_exporter": "python",
   "pygments_lexer": "ipython3",
   "version": "3.12.10"
  }
 },
 "nbformat": 4,
 "nbformat_minor": 5
}
