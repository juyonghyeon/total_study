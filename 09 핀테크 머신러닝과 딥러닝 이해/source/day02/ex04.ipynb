{
 "cells": [
  {
   "cell_type": "code",
   "execution_count": 6,
   "id": "991da5e2",
   "metadata": {},
   "outputs": [],
   "source": [
    "# numpy 배열 브로드캐스팅 기능 \n",
    "import numpy as np"
   ]
  },
  {
   "cell_type": "code",
   "execution_count": 7,
   "id": "9ed211e6",
   "metadata": {},
   "outputs": [
    {
     "data": {
      "text/plain": [
       "array([22, 24, 26, 28, 30, 32, 34, 36, 38, 40])"
      ]
     },
     "execution_count": 7,
     "metadata": {},
     "output_type": "execute_result"
    }
   ],
   "source": [
    "#nums = np.array([1, 2, 3, 4, 5, 6, 7, 8, 9, 10])\n",
    "nums = np.arange(1, 11)\n",
    "\"\"\"\n",
    "    np.arange(10) : 0~9\n",
    "    np.arange(1, 11) : 1~10\n",
    "    np.arange(1, 11, 2) : 1, 3, 5, 7, 9\n",
    "\"\"\"\n",
    "nums = nums + 10\n",
    "nums = nums * 2\n",
    "nums"
   ]
  },
  {
   "cell_type": "code",
   "execution_count": 8,
   "id": "b88f75e4",
   "metadata": {},
   "outputs": [
    {
     "data": {
      "text/plain": [
       "array([[22, 24, 26, 28, 30],\n",
       "       [32, 34, 36, 38, 40]])"
      ]
     },
     "execution_count": 8,
     "metadata": {},
     "output_type": "execute_result"
    }
   ],
   "source": [
    "# 배열의 차원 변경, reshape\n",
    "nums2 = nums.reshape(2, 5) # 2행 5열\n",
    "nums2"
   ]
  },
  {
   "cell_type": "code",
   "execution_count": 9,
   "id": "d156fed9",
   "metadata": {},
   "outputs": [
    {
     "data": {
      "text/plain": [
       "array([[22, 24],\n",
       "       [26, 28],\n",
       "       [30, 32],\n",
       "       [34, 36],\n",
       "       [38, 40]])"
      ]
     },
     "execution_count": 9,
     "metadata": {},
     "output_type": "execute_result"
    }
   ],
   "source": [
    "nums3 = nums.reshape(5, 2) # 5행 2열 \n",
    "nums3"
   ]
  },
  {
   "cell_type": "code",
   "execution_count": null,
   "id": "545fbf7c",
   "metadata": {},
   "outputs": [],
   "source": [
    "nums4 = nums.reshape(3, 3) "
   ]
  },
  {
   "cell_type": "code",
   "execution_count": 10,
   "id": "e0d8a971",
   "metadata": {},
   "outputs": [
    {
     "data": {
      "text/plain": [
       "array([[22],\n",
       "       [24],\n",
       "       [26],\n",
       "       [28],\n",
       "       [30],\n",
       "       [32],\n",
       "       [34],\n",
       "       [36],\n",
       "       [38],\n",
       "       [40]])"
      ]
     },
     "execution_count": 10,
     "metadata": {},
     "output_type": "execute_result"
    }
   ],
   "source": [
    "#nums5 = nums.reshape(10, 1) \n",
    "nums5 = nums.reshape(-1, 1) # 전체 열을 전체 행의 갯수\n",
    "nums5"
   ]
  },
  {
   "cell_type": "code",
   "execution_count": 11,
   "id": "bd2332bf",
   "metadata": {},
   "outputs": [
    {
     "data": {
      "text/plain": [
       "array([22, 24, 26, 28, 30, 32, 34, 36, 38, 40])"
      ]
     },
     "execution_count": 11,
     "metadata": {},
     "output_type": "execute_result"
    }
   ],
   "source": [
    "nums"
   ]
  },
  {
   "cell_type": "code",
   "execution_count": 12,
   "id": "ffe15cb5",
   "metadata": {},
   "outputs": [],
   "source": [
    "np.random.shuffle(nums)"
   ]
  },
  {
   "cell_type": "code",
   "execution_count": 13,
   "id": "3bc2200e",
   "metadata": {},
   "outputs": [
    {
     "data": {
      "text/plain": [
       "array([26, 34, 24, 40, 30, 32, 28, 38, 22, 36])"
      ]
     },
     "execution_count": 13,
     "metadata": {},
     "output_type": "execute_result"
    }
   ],
   "source": [
    "nums"
   ]
  },
  {
   "cell_type": "code",
   "execution_count": 14,
   "id": "2015a523",
   "metadata": {},
   "outputs": [],
   "source": [
    "fruits = np.array(['사과','오렌지','바나나','망고','멜론'])"
   ]
  },
  {
   "cell_type": "code",
   "execution_count": 15,
   "id": "174bf0d1",
   "metadata": {},
   "outputs": [
    {
     "data": {
      "text/plain": [
       "np.str_('사과')"
      ]
     },
     "execution_count": 15,
     "metadata": {},
     "output_type": "execute_result"
    }
   ],
   "source": [
    "fruits[0]"
   ]
  },
  {
   "cell_type": "code",
   "execution_count": 16,
   "id": "f2596871",
   "metadata": {},
   "outputs": [
    {
     "data": {
      "text/plain": [
       "array(['오렌지', '바나나', '망고'], dtype='<U3')"
      ]
     },
     "execution_count": 16,
     "metadata": {},
     "output_type": "execute_result"
    }
   ],
   "source": [
    "fruits[[1,2,3]]"
   ]
  },
  {
   "cell_type": "code",
   "execution_count": 17,
   "id": "e8e84d43",
   "metadata": {},
   "outputs": [
    {
     "data": {
      "text/plain": [
       "array(['오렌지', '망고'], dtype='<U3')"
      ]
     },
     "execution_count": 17,
     "metadata": {},
     "output_type": "execute_result"
    }
   ],
   "source": [
    "fruits[[False,True,False,True,False]] # 불리언 인덱싱"
   ]
  },
  {
   "cell_type": "code",
   "execution_count": null,
   "id": "7f2739c3",
   "metadata": {},
   "outputs": [],
   "source": []
  }
 ],
 "metadata": {
  "kernelspec": {
   "display_name": ".venv",
   "language": "python",
   "name": "python3"
  },
  "language_info": {
   "codemirror_mode": {
    "name": "ipython",
    "version": 3
   },
   "file_extension": ".py",
   "mimetype": "text/x-python",
   "name": "python",
   "nbconvert_exporter": "python",
   "pygments_lexer": "ipython3",
   "version": "3.12.10"
  }
 },
 "nbformat": 4,
 "nbformat_minor": 5
}
